{
 "cells": [
  {
   "cell_type": "code",
   "execution_count": null,
   "id": "located-governor",
   "metadata": {},
   "outputs": [],
   "source": [
    "from data import series_data\n",
    "from importlib import import_module\n",
    "from torch.utils.data import DataLoader, random_split, WeightedRandomSampler\n",
    "from util import train, plot_confusion_matrix, plot_loss_accuracy, plot_dataloader_distribution"
   ]
  },
  {
   "cell_type": "code",
   "execution_count": null,
   "id": "retired-official",
   "metadata": {},
   "outputs": [],
   "source": [
    "dataset_name = 'cinc2017'\n",
    "model_name = 'SimpleLSTMNetwork'\n",
    "rearrange_tensor = True\n",
    "units = 50\n",
    "layers = 1\n",
    "batch = 150\n",
    "epochs = 10\n",
    "device = 'cpu'"
   ]
  },
  {
   "cell_type": "code",
   "execution_count": null,
   "id": "executed-source",
   "metadata": {},
   "outputs": [],
   "source": [
    "dataset = import_module('datasets.' + dataset_name)\n",
    "model = getattr(import_module('model'), model_name)\n",
    "ts, labels = dataset.load_data()\n",
    "if rearrange_tensor:\n",
    "    ts = torch.transpose(ts, 1, 2)\n",
    "n_labels = int(labels.max()) + 1\n",
    "label_names = dataset.get_label_names()\n",
    "data = series_data.Series(ts, labels)\n",
    "train_size = int(0.8 * len(data))\n",
    "valid_size = len(data) - train_size\n",
    "train_data, valid_data = random_split(data, [train_size, valid_size])\n",
    "train_loader = DataLoader(train_data, batch_size=batch, shuffle=True)\n",
    "validation_loader = DataLoader(valid_data, batch_size=batch, shuffle=False)\n",
    "net = model(num_classes=n_labels, input_len=ts.size(2), \n",
    "                            hidden_units=units, hidden_layers=layers).to(device)\n",
    "print(f'The number of samples for training is {train_size}.')\n",
    "class_samples = [int(sum(labels==l))/len(labels) for l in range(n_labels)]\n",
    "print(f'Samples per classes: {class_samples}')\n",
    "class_samples_train = [sum([int(t[1])==l for t in list(train_data)])/len(list(train_data)) for l in range(n_labels)]\n",
    "print(f'Samples per classes (training): {class_samples_train}')\n",
    "class_samples_valid = [sum([int(v[1])==l for v in list(valid_data)])/len(list(valid_data)) for l in range(n_labels)]\n",
    "print(f'Samples per classes (validation): {class_samples_valid}')\n",
    "print(f'The number of parameters is {sum(p.numel() for p in net.parameters())}.')"
   ]
  },
  {
   "cell_type": "code",
   "execution_count": null,
   "id": "enhanced-programming",
   "metadata": {},
   "outputs": [],
   "source": [
    "plot_dataloader_distribution(train_loader, label_names)"
   ]
  },
  {
   "cell_type": "code",
   "execution_count": null,
   "id": "israeli-thesaurus",
   "metadata": {},
   "outputs": [],
   "source": [
    "class_weights = [1/sum([int(t[1])==l for t in list(train_data)]) for l in range(n_labels)]\n",
    "sample_weights = [class_weights[int(t[1])] for t in list(train_data)]\n",
    "sampler = WeightedRandomSampler(weights=sample_weights, num_samples=len(train_data), replacement=True)\n",
    "rebalanced_loader = DataLoader(train_data, sampler=sampler, batch_size=batch)"
   ]
  },
  {
   "cell_type": "code",
   "execution_count": null,
   "id": "aboriginal-antenna",
   "metadata": {},
   "outputs": [],
   "source": [
    "plot_dataloader_distribution(rebalanced_loader, label_names)"
   ]
  },
  {
   "cell_type": "code",
   "execution_count": null,
   "id": "advanced-debut",
   "metadata": {},
   "outputs": [],
   "source": [
    "train_loss, train_acc, validation_loss, validation_acc, predictions, targets = train(\n",
    "    net, device, rebalanced_loader, validation_loader, epochs, lr=0.01)"
   ]
  },
  {
   "cell_type": "code",
   "execution_count": null,
   "id": "median-copyright",
   "metadata": {
    "scrolled": true
   },
   "outputs": [],
   "source": [
    "plot_loss_accuracy(train_loss, train_acc, validation_loss, validation_acc)"
   ]
  },
  {
   "cell_type": "code",
   "execution_count": null,
   "id": "american-catalyst",
   "metadata": {},
   "outputs": [],
   "source": [
    "plot_confusion_matrix(targets, predictions, label_names)"
   ]
  },
  {
   "cell_type": "code",
   "execution_count": null,
   "id": "compliant-contract",
   "metadata": {},
   "outputs": [],
   "source": []
  }
 ],
 "metadata": {
  "kernelspec": {
   "display_name": "venv",
   "language": "python",
   "name": "venv"
  },
  "language_info": {
   "codemirror_mode": {
    "name": "ipython",
    "version": 3
   },
   "file_extension": ".py",
   "mimetype": "text/x-python",
   "name": "python",
   "nbconvert_exporter": "python",
   "pygments_lexer": "ipython3",
   "version": "3.7.3"
  }
 },
 "nbformat": 4,
 "nbformat_minor": 5
}
