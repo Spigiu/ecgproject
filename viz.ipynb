{
 "cells": [
  {
   "cell_type": "code",
   "execution_count": 1,
   "id": "18ed20c1",
   "metadata": {},
   "outputs": [
    {
     "name": "stderr",
     "output_type": "stream",
     "text": [
      "/home/giulia/SaltAndPepper/venv/lib/python3.10/site-packages/tqdm/auto.py:21: TqdmWarning: IProgress not found. Please update jupyter and ipywidgets. See https://ipywidgets.readthedocs.io/en/stable/user_install.html\n",
      "  from .autonotebook import tqdm as notebook_tqdm\n"
     ]
    }
   ],
   "source": [
    "import sklearn\n",
    "from data import series_data\n",
    "from importlib import import_module\n",
    "from torch.utils.data import DataLoader, random_split, WeightedRandomSampler\n",
    "#from util import train, plot_confusion_matrix, plot_loss_accuracy, plot_dataloader_distribution\n",
    "from util import train, plot_loss_accuracy, plot_dataloader_distribution\n",
    "\n",
    "import matplotlib.pyplot as plt \n",
    "import numpy as np \n",
    "import os\n",
    "os.environ['KMP_DUPLICATE_LIB_OK'] = 'True'\n",
    "import torch.nn as nn\n",
    "import torch.nn.functional as F\n",
    "import torch\n",
    "import torch.nn as nn\n",
    "\n",
    "\n"
   ]
  },
  {
   "cell_type": "code",
   "execution_count": 2,
   "id": "628be4fa",
   "metadata": {},
   "outputs": [],
   "source": [
    "\n",
    "dataset_name = 'Casilino'\n",
    "model_name = 'AutoencoderCNN'\n",
    "rearrange_tensor = False\n",
    "#units = 1000\n",
    "#layer_config = [(500, nn.ReLU),(300, nn.ReLU),(150, nn.ReLU),(50, nn.ReLU),(20, nn.ReLU),(8, nn.ReLU),(4, nn.ReLU),(2,nn.Tanh),]\n",
    "k=15000     \n",
    "#layers = 0\n",
    "batch = 200\n",
    "epochs = 100\n",
    "device = 'cpu'\n",
    "s_len=250"
   ]
  },
  {
   "cell_type": "code",
   "execution_count": 3,
   "id": "4c463fb9",
   "metadata": {
    "scrolled": true
   },
   "outputs": [
    {
     "name": "stdout",
     "output_type": "stream",
     "text": [
      "Dataset already assembled in /home/giulia/Documenti/ecgproject/datasets/Casilino.\n",
      "(342, 15000)\n"
     ]
    },
    {
     "data": {
      "image/png": "[encoded data removed]",
      "text/plain": [
       "<Figure size 640x480 with 1 Axes>"
      ]
     },
     "metadata": {},
     "output_type": "display_data"
    }
   ],
   "source": [
    "from sklearn.preprocessing import MinMaxScaler\n",
    "from sklearn.preprocessing import StandardScaler\n",
    "\n",
    "dataset = import_module('datasets.' + dataset_name)\n",
    "model = getattr(import_module('model'), model_name)\n",
    "\n",
    "ts, labels = dataset.load_data(t_len=15000, k=k)\n",
    "\n",
    "if rearrange_tensor:\n",
    "    ts = ts.transpose(1, 2)\n",
    "  \n",
    "\n",
    "  \n",
    "n_labels = int(labels.max()) + 1\n",
    "\n",
    "\n",
    "\n",
    "\n",
    "label_names = dataset.get_label_names()\n",
    "\n",
    "indice=10\n",
    "patient=ts[indice,:].squeeze(0)\n",
    "patient_n=patient.numpy()\n",
    "fig, ax1 = plt.subplots(1, 1)\n",
    "ax1.plot(np.arange(k),patient[:], label='Original Signal')\n",
    "ax1.set_xlabel('Time')\n",
    "ax1.set_ylabel('Amplitude')\n",
    "\n",
    "\n",
    "\n",
    "\n",
    "\n",
    "\n",
    "\n",
    "data = series_data.Series(ts, labels, {'RandomScaling':[0.5],'RandomAmplitudeFlip':[0.5],'RandomBiasShift':[0.5], 'RandomOscillationAdd': [0.5]})\n",
    "\n",
    "#ts_norm=(ts-ts.min())/(ts.max()-ts.min())\n",
    "#mms = MinMaxScaler()\n",
    "ss=StandardScaler()\n",
    "ts = ts.squeeze(1)\n",
    "\n",
    "ts = ss.fit_transform(ts)\n",
    "#print(ts.shape)\n",
    "#ts=ts.unsqueeze(1)\n",
    "print(ts.shape)"
   ]
  },
  {
   "cell_type": "code",
   "execution_count": 4,
   "id": "8f242768",
   "metadata": {},
   "outputs": [
    {
     "name": "stdout",
     "output_type": "stream",
     "text": [
      "342 = 273 34 35\n",
      "The number of samples for training is 273.\n",
      "Samples per classes: [1.0]\n",
      "Samples per classes (training): [1.0]\n",
      "The number of parameters is 1073857.\n"
     ]
    }
   ],
   "source": [
    "train_size = int(0.8 * len(data))\n",
    "valid_size = int((len(data) - train_size)/2)\n",
    "test_size = int(len(data) - train_size -valid_size)\n",
    "print(f'{len(data)} = {train_size} {valid_size} {test_size}')\n",
    "train_data, valid_data, test_data = random_split(data, [train_size, valid_size,test_size])\n",
    "\n",
    "#print(train_data[0][0].shape)\n",
    "\n",
    "\n",
    "segmented_data= [[],[],[]]\n",
    "t=0\n",
    "for d in [train_data,valid_data,test_data]:\n",
    "    for s in d: \n",
    "    # print(d.shape)\n",
    "        for i in range(0, s[0].shape[1] -s_len +1 ,s_len ):\n",
    "            segment = s[0][:,i : i+s_len]\n",
    "            segmented_data[t].append(segment)\n",
    "    t=t+1\n",
    "\n",
    "#print(len(segmented_data[2]))   \n",
    "         \n",
    "         \n",
    "\n",
    "\n",
    "train_loader = DataLoader(segmented_data[0], batch_size=batch, shuffle=True)\n",
    "validation_loader = DataLoader(segmented_data[1], batch_size=batch, shuffle=False)\n",
    "test_loader = DataLoader(segmented_data[2], batch_size=batch, shuffle=False)\n",
    "\n",
    "\n",
    "#train_loader = DataLoader(train_data, batch_size=batch, shuffle=True)\n",
    "#validation_loader = DataLoader(valid_data, batch_size=batch, shuffle=False)\n",
    "#test_loader = DataLoader(test_data, batch_size=batch, shuffle=False)\n",
    "\n",
    "\n",
    "\n",
    "\n",
    "\n",
    "\n",
    "\n",
    "\n",
    "#print(ts.size)\n",
    "\n",
    "net = model().to(device)   \n",
    "    \n",
    "    \n",
    "print(f'The number of samples for training is {train_size}.')\n",
    "class_samples = [int(sum(labels==l))/len(labels) for l in range(n_labels)]\n",
    "print(f'Samples per classes: {class_samples}')\n",
    "class_samples_train = [sum([int(t[1])==l for t in list(train_data)])/len(list(train_data)) for l in range(n_labels)]\n",
    "print(f'Samples per classes (training): {class_samples_train}')\n",
    "class_samples_valid = [sum([int(v[1])==l for v in list(valid_data)])/len(list(valid_data)) for l in range(n_labels)]\n",
    "#print(f'Samples per classes (validation): {class_samples_valid}')\n",
    "print(f'The number of parameters is {sum(p.numel() for p in net.parameters())}.')\n",
    "\n",
    "#ax1.plot(np.arange(250),data.__getitem__(6)[0][0].numpy()[1000:1250] , label='Augmented Signal')\n",
    "#ax1.legend()\n"
   ]
  },
  {
   "cell_type": "code",
   "execution_count": 11,
   "id": "1b77d0e6",
   "metadata": {},
   "outputs": [
    {
     "name": "stdout",
     "output_type": "stream",
     "text": [
      "(342, 15000)\n",
      "(342, 15000)\n"
     ]
    },
    {
     "data": {
      "image/png": "[encoded data removed]",
      "text/plain": [
       "<Figure size 640x480 with 1 Axes>"
      ]
     },
     "metadata": {},
     "output_type": "display_data"
    }
   ],
   "source": [
    "#ts_squeezed= ts.squeeze(1)\n",
    "#print(ts.shape)\n",
    "indice=100\n",
    "patient=ts[indice,1000:1500]\n",
    "#patient_n=patient.numpy()\n",
    "fig, ax1 = plt.subplots(1, 1)\n",
    "ax1.plot(np.arange(500),patient[:], label='Original Signal')\n",
    "ax1.set_xlabel('Time')\n",
    "ax1.set_ylabel('Amplitude')\n",
    "print(ts.shape) \n",
    "#print(patient)\n",
    "print(ts.shape)"
   ]
  },
  {
   "cell_type": "code",
   "execution_count": 6,
   "id": "9421870b",
   "metadata": {},
   "outputs": [],
   "source": [
    "#plot_dataloader_distribution(train_loader, label_names)"
   ]
  },
  {
   "cell_type": "code",
   "execution_count": 7,
   "id": "c60e19c4",
   "metadata": {},
   "outputs": [],
   "source": [
    "#class_weights = [1/sum([int(t[1])==l for t in list(train_data)]) for l in range(n_labels)]\n",
    "#sample_weights = [class_weights[int(t[1])] for t in list(train_data)]\n",
    "#sampler = WeightedRandomSampler(weights=sample_weights, num_samples=len(train_data), replacement=True)\n",
    "#rebalanced_loader = DataLoader(train_data, sampler=sampler, batch_size=batch)"
   ]
  },
  {
   "cell_type": "code",
   "execution_count": 8,
   "id": "d6c2f526",
   "metadata": {},
   "outputs": [],
   "source": [
    "#plot_dataloader_distribution(rebalanced_loader, label_names)"
   ]
  },
  {
   "cell_type": "code",
   "execution_count": 9,
   "id": "35307aab",
   "metadata": {
    "scrolled": false
   },
   "outputs": [
    {
     "name": "stderr",
     "output_type": "stream",
     "text": [
      "Training:   7%|▋         | 7/100 [1:37:52<21:40:22, 838.96s/epoch, loss=0.00012]\n"
     ]
    },
    {
     "ename": "KeyboardInterrupt",
     "evalue": "",
     "output_type": "error",
     "traceback": [
      "\u001b[0;31m---------------------------------------------------------------------------\u001b[0m",
      "\u001b[0;31mKeyboardInterrupt\u001b[0m                         Traceback (most recent call last)",
      "\u001b[0;32m/tmp/ipykernel_306691/1419465526.py\u001b[0m in \u001b[0;36m<cell line: 1>\u001b[0;34m()\u001b[0m\n\u001b[0;32m----> 1\u001b[0;31m train_loss, validation_loss = train(\n\u001b[0m\u001b[1;32m      2\u001b[0m     \u001b[0mnet\u001b[0m\u001b[0;34m,\u001b[0m \u001b[0mdevice\u001b[0m\u001b[0;34m,\u001b[0m \u001b[0mtrain_loader\u001b[0m\u001b[0;34m,\u001b[0m \u001b[0mvalidation_loader\u001b[0m\u001b[0;34m,\u001b[0m \u001b[0mepochs\u001b[0m\u001b[0;34m,\u001b[0m \u001b[0mlr\u001b[0m\u001b[0;34m=\u001b[0m\u001b[0;36m0.0001\u001b[0m\u001b[0;34m,\u001b[0m \u001b[0mweight_decay\u001b[0m\u001b[0;34m=\u001b[0m\u001b[0;36m0\u001b[0m\u001b[0;34m\u001b[0m\u001b[0;34m\u001b[0m\u001b[0m\n\u001b[1;32m      3\u001b[0m )\n",
      "\u001b[0;32m~/Documenti/ecgproject/util/comp_1.py\u001b[0m in \u001b[0;36mtrain\u001b[0;34m(model, device, train_loader, validation_loader, epochs, lr, weight_decay, criterion, betas, verbose)\u001b[0m\n\u001b[1;32m     28\u001b[0m \u001b[0;34m\u001b[0m\u001b[0m\n\u001b[1;32m     29\u001b[0m \u001b[0;34m\u001b[0m\u001b[0m\n\u001b[0;32m---> 30\u001b[0;31m                 \u001b[0moutput\u001b[0m \u001b[0;34m=\u001b[0m \u001b[0mmodel\u001b[0m\u001b[0;34m(\u001b[0m\u001b[0mdata\u001b[0m\u001b[0;34m)\u001b[0m\u001b[0;34m\u001b[0m\u001b[0;34m\u001b[0m\u001b[0m\n\u001b[0m\u001b[1;32m     31\u001b[0m \u001b[0;34m\u001b[0m\u001b[0m\n\u001b[1;32m     32\u001b[0m \u001b[0;34m\u001b[0m\u001b[0m\n",
      "\u001b[0;32m~/SaltAndPepper/venv/lib/python3.10/site-packages/torch/nn/modules/module.py\u001b[0m in \u001b[0;36m_call_impl\u001b[0;34m(self, *input, **kwargs)\u001b[0m\n\u001b[1;32m   1192\u001b[0m         if not (self._backward_hooks or self._forward_hooks or self._forward_pre_hooks or _global_backward_hooks\n\u001b[1;32m   1193\u001b[0m                 or _global_forward_hooks or _global_forward_pre_hooks):\n\u001b[0;32m-> 1194\u001b[0;31m             \u001b[0;32mreturn\u001b[0m \u001b[0mforward_call\u001b[0m\u001b[0;34m(\u001b[0m\u001b[0;34m*\u001b[0m\u001b[0minput\u001b[0m\u001b[0;34m,\u001b[0m \u001b[0;34m**\u001b[0m\u001b[0mkwargs\u001b[0m\u001b[0;34m)\u001b[0m\u001b[0;34m\u001b[0m\u001b[0;34m\u001b[0m\u001b[0m\n\u001b[0m\u001b[1;32m   1195\u001b[0m         \u001b[0;31m# Do not call functions when jit is used\u001b[0m\u001b[0;34m\u001b[0m\u001b[0;34m\u001b[0m\u001b[0m\n\u001b[1;32m   1196\u001b[0m         \u001b[0mfull_backward_hooks\u001b[0m\u001b[0;34m,\u001b[0m \u001b[0mnon_full_backward_hooks\u001b[0m \u001b[0;34m=\u001b[0m \u001b[0;34m[\u001b[0m\u001b[0;34m]\u001b[0m\u001b[0;34m,\u001b[0m \u001b[0;34m[\u001b[0m\u001b[0;34m]\u001b[0m\u001b[0;34m\u001b[0m\u001b[0;34m\u001b[0m\u001b[0m\n",
      "\u001b[0;32m~/Documenti/ecgproject/model/autonetCNN.py\u001b[0m in \u001b[0;36mforward\u001b[0;34m(self, x)\u001b[0m\n\u001b[1;32m     66\u001b[0m         \u001b[0;31m#x = torch.flatten(x, 1).unsqueeze(0)\u001b[0m\u001b[0;34m\u001b[0m\u001b[0;34m\u001b[0m\u001b[0m\n\u001b[1;32m     67\u001b[0m         \u001b[0mx\u001b[0m \u001b[0;34m=\u001b[0m \u001b[0mself\u001b[0m\u001b[0;34m.\u001b[0m\u001b[0mencoder\u001b[0m\u001b[0;34m(\u001b[0m\u001b[0mx\u001b[0m\u001b[0;34m)\u001b[0m\u001b[0;34m\u001b[0m\u001b[0;34m\u001b[0m\u001b[0m\n\u001b[0;32m---> 68\u001b[0;31m         \u001b[0mx\u001b[0m \u001b[0;34m=\u001b[0m \u001b[0mself\u001b[0m\u001b[0;34m.\u001b[0m\u001b[0mdecoder\u001b[0m\u001b[0;34m(\u001b[0m\u001b[0mx\u001b[0m\u001b[0;34m)\u001b[0m\u001b[0;34m\u001b[0m\u001b[0;34m\u001b[0m\u001b[0m\n\u001b[0m\u001b[1;32m     69\u001b[0m         \u001b[0;32mreturn\u001b[0m \u001b[0mx\u001b[0m\u001b[0;34m\u001b[0m\u001b[0;34m\u001b[0m\u001b[0m\n",
      "\u001b[0;32m~/SaltAndPepper/venv/lib/python3.10/site-packages/torch/nn/modules/module.py\u001b[0m in \u001b[0;36m_call_impl\u001b[0;34m(self, *input, **kwargs)\u001b[0m\n\u001b[1;32m   1192\u001b[0m         if not (self._backward_hooks or self._forward_hooks or self._forward_pre_hooks or _global_backward_hooks\n\u001b[1;32m   1193\u001b[0m                 or _global_forward_hooks or _global_forward_pre_hooks):\n\u001b[0;32m-> 1194\u001b[0;31m             \u001b[0;32mreturn\u001b[0m \u001b[0mforward_call\u001b[0m\u001b[0;34m(\u001b[0m\u001b[0;34m*\u001b[0m\u001b[0minput\u001b[0m\u001b[0;34m,\u001b[0m \u001b[0;34m**\u001b[0m\u001b[0mkwargs\u001b[0m\u001b[0;34m)\u001b[0m\u001b[0;34m\u001b[0m\u001b[0;34m\u001b[0m\u001b[0m\n\u001b[0m\u001b[1;32m   1195\u001b[0m         \u001b[0;31m# Do not call functions when jit is used\u001b[0m\u001b[0;34m\u001b[0m\u001b[0;34m\u001b[0m\u001b[0m\n\u001b[1;32m   1196\u001b[0m         \u001b[0mfull_backward_hooks\u001b[0m\u001b[0;34m,\u001b[0m \u001b[0mnon_full_backward_hooks\u001b[0m \u001b[0;34m=\u001b[0m \u001b[0;34m[\u001b[0m\u001b[0;34m]\u001b[0m\u001b[0;34m,\u001b[0m \u001b[0;34m[\u001b[0m\u001b[0;34m]\u001b[0m\u001b[0;34m\u001b[0m\u001b[0;34m\u001b[0m\u001b[0m\n",
      "\u001b[0;32m~/SaltAndPepper/venv/lib/python3.10/site-packages/torch/nn/modules/container.py\u001b[0m in \u001b[0;36mforward\u001b[0;34m(self, input)\u001b[0m\n\u001b[1;32m    202\u001b[0m     \u001b[0;32mdef\u001b[0m \u001b[0mforward\u001b[0m\u001b[0;34m(\u001b[0m\u001b[0mself\u001b[0m\u001b[0;34m,\u001b[0m \u001b[0minput\u001b[0m\u001b[0;34m)\u001b[0m\u001b[0;34m:\u001b[0m\u001b[0;34m\u001b[0m\u001b[0;34m\u001b[0m\u001b[0m\n\u001b[1;32m    203\u001b[0m         \u001b[0;32mfor\u001b[0m \u001b[0mmodule\u001b[0m \u001b[0;32min\u001b[0m \u001b[0mself\u001b[0m\u001b[0;34m:\u001b[0m\u001b[0;34m\u001b[0m\u001b[0;34m\u001b[0m\u001b[0m\n\u001b[0;32m--> 204\u001b[0;31m             \u001b[0minput\u001b[0m \u001b[0;34m=\u001b[0m \u001b[0mmodule\u001b[0m\u001b[0;34m(\u001b[0m\u001b[0minput\u001b[0m\u001b[0;34m)\u001b[0m\u001b[0;34m\u001b[0m\u001b[0;34m\u001b[0m\u001b[0m\n\u001b[0m\u001b[1;32m    205\u001b[0m         \u001b[0;32mreturn\u001b[0m \u001b[0minput\u001b[0m\u001b[0;34m\u001b[0m\u001b[0;34m\u001b[0m\u001b[0m\n\u001b[1;32m    206\u001b[0m \u001b[0;34m\u001b[0m\u001b[0m\n",
      "\u001b[0;32m~/SaltAndPepper/venv/lib/python3.10/site-packages/torch/nn/modules/module.py\u001b[0m in \u001b[0;36m_call_impl\u001b[0;34m(self, *input, **kwargs)\u001b[0m\n\u001b[1;32m   1192\u001b[0m         if not (self._backward_hooks or self._forward_hooks or self._forward_pre_hooks or _global_backward_hooks\n\u001b[1;32m   1193\u001b[0m                 or _global_forward_hooks or _global_forward_pre_hooks):\n\u001b[0;32m-> 1194\u001b[0;31m             \u001b[0;32mreturn\u001b[0m \u001b[0mforward_call\u001b[0m\u001b[0;34m(\u001b[0m\u001b[0;34m*\u001b[0m\u001b[0minput\u001b[0m\u001b[0;34m,\u001b[0m \u001b[0;34m**\u001b[0m\u001b[0mkwargs\u001b[0m\u001b[0;34m)\u001b[0m\u001b[0;34m\u001b[0m\u001b[0;34m\u001b[0m\u001b[0m\n\u001b[0m\u001b[1;32m   1195\u001b[0m         \u001b[0;31m# Do not call functions when jit is used\u001b[0m\u001b[0;34m\u001b[0m\u001b[0;34m\u001b[0m\u001b[0m\n\u001b[1;32m   1196\u001b[0m         \u001b[0mfull_backward_hooks\u001b[0m\u001b[0;34m,\u001b[0m \u001b[0mnon_full_backward_hooks\u001b[0m \u001b[0;34m=\u001b[0m \u001b[0;34m[\u001b[0m\u001b[0;34m]\u001b[0m\u001b[0;34m,\u001b[0m \u001b[0;34m[\u001b[0m\u001b[0;34m]\u001b[0m\u001b[0;34m\u001b[0m\u001b[0;34m\u001b[0m\u001b[0m\n",
      "\u001b[0;32m~/SaltAndPepper/venv/lib/python3.10/site-packages/torch/nn/modules/conv.py\u001b[0m in \u001b[0;36mforward\u001b[0;34m(self, input)\u001b[0m\n\u001b[1;32m    311\u001b[0m \u001b[0;34m\u001b[0m\u001b[0m\n\u001b[1;32m    312\u001b[0m     \u001b[0;32mdef\u001b[0m \u001b[0mforward\u001b[0m\u001b[0;34m(\u001b[0m\u001b[0mself\u001b[0m\u001b[0;34m,\u001b[0m \u001b[0minput\u001b[0m\u001b[0;34m:\u001b[0m \u001b[0mTensor\u001b[0m\u001b[0;34m)\u001b[0m \u001b[0;34m->\u001b[0m \u001b[0mTensor\u001b[0m\u001b[0;34m:\u001b[0m\u001b[0;34m\u001b[0m\u001b[0;34m\u001b[0m\u001b[0m\n\u001b[0;32m--> 313\u001b[0;31m         \u001b[0;32mreturn\u001b[0m \u001b[0mself\u001b[0m\u001b[0;34m.\u001b[0m\u001b[0m_conv_forward\u001b[0m\u001b[0;34m(\u001b[0m\u001b[0minput\u001b[0m\u001b[0;34m,\u001b[0m \u001b[0mself\u001b[0m\u001b[0;34m.\u001b[0m\u001b[0mweight\u001b[0m\u001b[0;34m,\u001b[0m \u001b[0mself\u001b[0m\u001b[0;34m.\u001b[0m\u001b[0mbias\u001b[0m\u001b[0;34m)\u001b[0m\u001b[0;34m\u001b[0m\u001b[0;34m\u001b[0m\u001b[0m\n\u001b[0m\u001b[1;32m    314\u001b[0m \u001b[0;34m\u001b[0m\u001b[0m\n\u001b[1;32m    315\u001b[0m \u001b[0;34m\u001b[0m\u001b[0m\n",
      "\u001b[0;32m~/SaltAndPepper/venv/lib/python3.10/site-packages/torch/nn/modules/conv.py\u001b[0m in \u001b[0;36m_conv_forward\u001b[0;34m(self, input, weight, bias)\u001b[0m\n\u001b[1;32m    307\u001b[0m                             \u001b[0mweight\u001b[0m\u001b[0;34m,\u001b[0m \u001b[0mbias\u001b[0m\u001b[0;34m,\u001b[0m \u001b[0mself\u001b[0m\u001b[0;34m.\u001b[0m\u001b[0mstride\u001b[0m\u001b[0;34m,\u001b[0m\u001b[0;34m\u001b[0m\u001b[0;34m\u001b[0m\u001b[0m\n\u001b[1;32m    308\u001b[0m                             _single(0), self.dilation, self.groups)\n\u001b[0;32m--> 309\u001b[0;31m         return F.conv1d(input, weight, bias, self.stride,\n\u001b[0m\u001b[1;32m    310\u001b[0m                         self.padding, self.dilation, self.groups)\n\u001b[1;32m    311\u001b[0m \u001b[0;34m\u001b[0m\u001b[0m\n",
      "\u001b[0;31mKeyboardInterrupt\u001b[0m: "
     ]
    }
   ],
   "source": [
    "\n",
    "train_loss, validation_loss = train(\n",
    "    net, device, train_loader, validation_loader, epochs, lr=0.0001, weight_decay=0\n",
    ")"
   ]
  },
  {
   "cell_type": "code",
   "execution_count": null,
   "id": "55ef059a",
   "metadata": {},
   "outputs": [],
   "source": [
    "print(net)"
   ]
  },
  {
   "cell_type": "code",
   "execution_count": null,
   "id": "1c53d2d5",
   "metadata": {},
   "outputs": [],
   "source": [
    "plot_loss_accuracy(train_loss, validation_loss, batch= batch)\n"
   ]
  },
  {
   "cell_type": "code",
   "execution_count": null,
   "id": "2436b2b2",
   "metadata": {},
   "outputs": [],
   "source": [
    "#plot_confusion_matrix(target_list, predicted_list, label_names)"
   ]
  },
  {
   "cell_type": "code",
   "execution_count": null,
   "id": "b1a79907",
   "metadata": {
    "scrolled": false
   },
   "outputs": [],
   "source": [
    "import matplotlib.pyplot as plt\n",
    "import numpy as np\n",
    "\n",
    "\n",
    "#real= ts[10000, :]\n",
    "#print(labels[10000])\n",
    "\n",
    "fig, (ax1, ax2) = plt.subplots(1, 2, figsize=(15, 5))\n",
    "#print(len(segmented_data[2]))\n",
    "real=segmented_data[2][160]\n",
    "#real=ts[100,:]\n",
    "print(real.shape)\n",
    "\n",
    "#print(len(real[0]))\n",
    "#real=real[100]\n",
    "\n",
    "ax1.plot(np.arange(s_len), real.squeeze(0), label='Original Signal', color='blue')\n",
    "ax1.set_xlabel('Time')\n",
    "ax1.set_ylabel('Amplitude')\n",
    "ax1.legend()\n",
    "#real = torch.from_numpy(real)\n",
    "#print(real.shape)\n",
    "real = real.float()\n",
    "#print(real.unsqueeze(0).unsqueeze(0))\n",
    "fake = net(real.unsqueeze(0))\n",
    "#print(fake)\n",
    "\n",
    "ax2.plot(np.arange(s_len), fake[:].detach().numpy().squeeze(0).squeeze(0), label='Reconstructed Signal', color='orange')\n",
    "ax2.set_xlabel('Time')\n",
    "ax2.set_ylabel('Amplitude')\n",
    "ax2.legend()\n",
    "\n",
    "plt.show()\n",
    "#print(ts)"
   ]
  },
  {
   "cell_type": "code",
   "execution_count": null,
   "id": "984f1176",
   "metadata": {
    "scrolled": false
   },
   "outputs": [],
   "source": [
    "\n",
    "fig, ax1 = plt.subplots(1, figsize=(15, 5))\n",
    "#print(len(segmented_data[2]))\n",
    "real=segmented_data[2][90]\n",
    "#real=ts[100,1000:1250]\n",
    "#print(len(real[0]))\n",
    "#real=real[100]\n",
    "\n",
    "ax1.plot(np.arange(s_len), real.squeeze(0), label='Original Signal', color='blue')\n",
    "ax1.set_xlabel('Time')\n",
    "ax1.set_ylabel('Amplitude')\n",
    "ax1.legend()\n",
    "#real = torch.from_numpy(real)\n",
    "#print(real.shape)\n",
    "real = real.float()\n",
    "#print(real.unsqueeze(0).unsqueeze(0))\n",
    "fake = net(real)\n",
    "#print(fake)\n",
    "\n",
    "ax1.plot(np.arange(s_len), fake[:].detach().numpy().squeeze(0), label='Reconstructed Signal', color='orange')\n",
    "ax1.set_xlabel('Time')\n",
    "ax1.set_ylabel('Amplitude')\n",
    "ax1.legend()\n",
    "\n",
    "plt.show()"
   ]
  },
  {
   "cell_type": "code",
   "execution_count": null,
   "id": "b67cdd65",
   "metadata": {},
   "outputs": [],
   "source": [
    "ts1,labels1= dataset.load_data1(t_len =15000, k=k)\n",
    "if rearrange_tensor:\n",
    "    ts1 = ts1.transpose(1, 2)\n",
    "\n",
    "  \n",
    "data1 = series_data.Series(ts1, labels1)\n",
    "print(labels1)\n",
    "label_names1 = dataset.get_label_names1()\n",
    "\n",
    "ss=StandardScaler()\n",
    "#print(ts1.shape)\n",
    "#ts1 = ts1.squeeze(1)\n",
    "\n",
    "#ts1 = ss.fit_transform(ts1)\n",
    "\n",
    "print(ts1.shape)\n"
   ]
  },
  {
   "cell_type": "code",
   "execution_count": null,
   "id": "09b0d6ff",
   "metadata": {},
   "outputs": [],
   "source": [
    "\n",
    "#print(segmented_data1[0].size)\n",
    "fig, ax3 = plt.subplots(1, figsize=(15, 5))\n",
    "real1 =ts1[130,0,1500:1750]\n",
    "\n",
    "\n",
    "#real1=real1.numpy()\n",
    "ax3.set_xlabel('Time')\n",
    "ax3.set_ylabel('Amplitude')\n",
    "\n",
    "#real1 = torch.from_numpy(real1)\n",
    "real1 = real1.float()\n",
    "#print(real.unsqueeze(0).unsqueeze(0))\n",
    "fake = net(real1.unsqueeze(0))\n",
    "#print(fake)\n",
    "\n",
    "ax3.plot(np.arange(250), fake[:].detach().numpy().squeeze(0) ,label = 'Reconstructed Signal', color='orange')\n",
    "ax3.set_xlabel('Time')\n",
    "ax3.set_ylabel('Amplitude')\n",
    "ax3.legend()\n",
    "ax3.plot(np.arange(250), real1.squeeze(0), label = 'Original Signal', color='blue')\n",
    "ax3.legend()\n",
    "plt.show()"
   ]
  },
  {
   "cell_type": "code",
   "execution_count": null,
   "id": "7f7edf5b",
   "metadata": {
    "scrolled": true
   },
   "outputs": [],
   "source": [
    "fake_np = fake.detach().numpy().squeeze(0)\n",
    "real1_np = real1.squeeze(0).detach().numpy()\n",
    "\n",
    "error = np.abs(fake_np - real1_np)\n",
    "#print(error)\n",
    "area_difference = np.trapz(error, np.arange(250))\n",
    "\n",
    "# Plot dei segnali sovrapposti\n",
    "plt.plot(fake_np, label='Fake Signal')\n",
    "plt.plot(real1_np, label='Real Signal')\n",
    "\n",
    "# Plot dell'area di differenza\n",
    "plt.fill_between(np.arange(250), 0, error.ravel(), color='red', alpha=0.3, label='Error Area')\n",
    "\n",
    "# Impostazioni del grafico\n",
    "plt.title('Differenza tra due segnali')\n",
    "plt.xlabel('Tempo')\n",
    "plt.ylabel('Amplitude')\n",
    "plt.legend()\n",
    "plt.grid(True)\n",
    "\n",
    "# Mostra il grafico\n",
    "plt.show()\n",
    "\n",
    "# Stampa dell'area della differenza\n",
    "print(f'Area della differenza: {area_difference}')\n",
    "\n",
    "\n",
    "\n",
    "\n",
    "\n",
    "\n"
   ]
  },
  {
   "cell_type": "code",
   "execution_count": null,
   "id": "1fb40749",
   "metadata": {},
   "outputs": [],
   "source": [
    "torch.save(model.state_dict(), 'AutoencoderCNN.pth')\n",
    "\n",
    "model = AutoencoderCNN()\n",
    "\n",
    "model.load_state_dict(torch.load('AutoencoderCNN.pth'))"
   ]
  },
  {
   "cell_type": "code",
   "execution_count": null,
   "id": "872ee71d",
   "metadata": {},
   "outputs": [],
   "source": []
  },
  {
   "cell_type": "code",
   "execution_count": null,
   "id": "d94ee06b",
   "metadata": {},
   "outputs": [],
   "source": []
  }
 ],
 "metadata": {
  "kernelspec": {
   "display_name": "venv",
   "language": "python",
   "name": "venv"
  },
  "language_info": {
   "codemirror_mode": {
    "name": "ipython",
    "version": 3
   },
   "file_extension": ".py",
   "mimetype": "text/x-python",
   "name": "python",
   "nbconvert_exporter": "python",
   "pygments_lexer": "ipython3",
   "version": "3.10.12"
  }
 },
 "nbformat": 4,
 "nbformat_minor": 5
}
